{
 "cells": [
  {
   "cell_type": "code",
   "execution_count": 4,
   "metadata": {},
   "outputs": [],
   "source": [
    "KAGGLE_USERNAME = \"\" #@param {type:\"string\"}\n",
    "KAGGLE_TOKEN = \"\" #@param {type:\"string\"}\n",
    "BATCH_SIZE = 12 #@param {type:\"number\"}\n",
    "DATASET_DESTINATION = \"./data\" #@param {type:\"string\"}"
   ]
  },
  {
   "cell_type": "code",
   "execution_count": 3,
   "metadata": {},
   "outputs": [],
   "source": [
    "from pytorch_lightning import LightningModule, Trainer\n",
    "from unet.data import SemanticDroneDataset, SegmentationPixelValues, download_dataset, kaggle_auth\n",
    "from unet.nn import DyUnetModel2D"
   ]
  },
  {
   "cell_type": "markdown",
   "metadata": {},
   "source": [
    "- Download dataset from kaggle"
   ]
  },
  {
   "cell_type": "code",
   "execution_count": 5,
   "metadata": {},
   "outputs": [
    {
     "ename": "TypeError",
     "evalue": "download_dataset() missing 1 required positional argument: 'destination'",
     "output_type": "error",
     "traceback": [
      "\u001b[1;31m---------------------------------------------------------------------------\u001b[0m",
      "\u001b[1;31mTypeError\u001b[0m                                 Traceback (most recent call last)",
      "\u001b[1;32mc:\\Users\\Arsham\\Documents\\Projects\\unet\\notebooks\\train_vanilla_unet.ipynb Cell 4'\u001b[0m in \u001b[0;36m<cell line: 6>\u001b[1;34m()\u001b[0m\n\u001b[0;32m      <a href='vscode-notebook-cell:/c%3A/Users/Arsham/Documents/Projects/unet/notebooks/train_vanilla_unet.ipynb#ch0000001?line=0'>1</a>\u001b[0m kaggle_auth(\n\u001b[0;32m      <a href='vscode-notebook-cell:/c%3A/Users/Arsham/Documents/Projects/unet/notebooks/train_vanilla_unet.ipynb#ch0000001?line=1'>2</a>\u001b[0m     username\u001b[39m=\u001b[39mKAGGLE_USERNAME,\n\u001b[0;32m      <a href='vscode-notebook-cell:/c%3A/Users/Arsham/Documents/Projects/unet/notebooks/train_vanilla_unet.ipynb#ch0000001?line=2'>3</a>\u001b[0m     key\u001b[39m=\u001b[39mKAGGLE_TOKEN\n\u001b[0;32m      <a href='vscode-notebook-cell:/c%3A/Users/Arsham/Documents/Projects/unet/notebooks/train_vanilla_unet.ipynb#ch0000001?line=3'>4</a>\u001b[0m )\n\u001b[1;32m----> <a href='vscode-notebook-cell:/c%3A/Users/Arsham/Documents/Projects/unet/notebooks/train_vanilla_unet.ipynb#ch0000001?line=5'>6</a>\u001b[0m download_dataset()\n",
      "\u001b[1;31mTypeError\u001b[0m: download_dataset() missing 1 required positional argument: 'destination'"
     ]
    }
   ],
   "source": [
    "kaggle_auth(\n",
    "    username=KAGGLE_USERNAME,\n",
    "    key=KAGGLE_TOKEN\n",
    ")\n",
    "\n",
    "download_dataset(DATASET_DESTINATION)"
   ]
  }
 ],
 "metadata": {
  "interpreter": {
   "hash": "e79cb79648eada5ceb5ae5917d085823126aaa438ddae2c5f68c36d57a1937de"
  },
  "kernelspec": {
   "display_name": "Python 3.9.12 ('brain')",
   "language": "python",
   "name": "python3"
  },
  "language_info": {
   "codemirror_mode": {
    "name": "ipython",
    "version": 3
   },
   "file_extension": ".py",
   "mimetype": "text/x-python",
   "name": "python",
   "nbconvert_exporter": "python",
   "pygments_lexer": "ipython3",
   "version": "3.9.12"
  },
  "orig_nbformat": 4
 },
 "nbformat": 4,
 "nbformat_minor": 2
}
